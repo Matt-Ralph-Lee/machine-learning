{
  "nbformat": 4,
  "nbformat_minor": 0,
  "metadata": {
    "colab": {
      "provenance": [],
      "gpuType": "T4",
      "authorship_tag": "ABX9TyMKWLXzm3N5DF546r+c8YAz",
      "include_colab_link": true
    },
    "kernelspec": {
      "name": "python3",
      "display_name": "Python 3"
    },
    "language_info": {
      "name": "python"
    },
    "accelerator": "GPU"
  },
  "cells": [
    {
      "cell_type": "markdown",
      "metadata": {
        "id": "view-in-github",
        "colab_type": "text"
      },
      "source": [
        "<a href=\"https://colab.research.google.com/github/Matt-Ralph-Lee/machine-learning/blob/main/tensorflow/tensorflow.ipynb\" target=\"_parent\"><img src=\"https://colab.research.google.com/assets/colab-badge.svg\" alt=\"Open In Colab\"/></a>"
      ]
    },
    {
      "cell_type": "code",
      "execution_count": 124,
      "metadata": {
        "colab": {
          "base_uri": "https://localhost:8080/"
        },
        "id": "7iIsrk-QNTwm",
        "outputId": "055cb6fb-4bd7-4567-9771-0bc17eed7730"
      },
      "outputs": [
        {
          "output_type": "stream",
          "name": "stdout",
          "text": [
            "TensorFlow version: 2.15.0\n"
          ]
        }
      ],
      "source": [
        "import tensorflow as tf\n",
        "import tensorflow.keras as kl\n",
        "print(\"TensorFlow version:\", tf.__version__)\n",
        "\n",
        "from tensorflow.keras import layers\n",
        "from tensorflow.keras import Model"
      ]
    },
    {
      "cell_type": "code",
      "source": [
        "cifar10 = tf.keras.datasets.cifar10\n",
        "(x_train, y_train), (x_test, y_test) = cifar10.load_data()\n",
        "x_train, x_test = x_train / 255.0, x_test / 255.0\n",
        "\n",
        "x_train.shape, y_train.shape, x_test.shape, y_test.shape"
      ],
      "metadata": {
        "colab": {
          "base_uri": "https://localhost:8080/"
        },
        "id": "bo8ZUwvOTlUR",
        "outputId": "05557e08-820a-496c-e78b-a678c896341d"
      },
      "execution_count": 125,
      "outputs": [
        {
          "output_type": "execute_result",
          "data": {
            "text/plain": [
              "((50000, 32, 32, 3), (50000, 1), (10000, 32, 32, 3), (10000, 1))"
            ]
          },
          "metadata": {},
          "execution_count": 125
        }
      ]
    },
    {
      "cell_type": "code",
      "source": [
        "train_ds = tf.data.Dataset.from_tensor_slices(\n",
        "    (x_train, y_train)).shuffle(10000).batch(32)\n",
        "\n",
        "test_ds = tf.data.Dataset.from_tensor_slices((x_test, y_test)).batch(32)"
      ],
      "metadata": {
        "id": "8OA0qTqKUPM4"
      },
      "execution_count": 126,
      "outputs": []
    },
    {
      "cell_type": "code",
      "source": [
        "class Block(Model):\n",
        "  def __init__(self, in_channel, out_channel, down_sample=False):\n",
        "    super().__init__()\n",
        "    self.act = layers.ReLU()\n",
        "\n",
        "    if down_sample:\n",
        "      stride = 2\n",
        "      self.downsample = kl.Sequential([\n",
        "          layers.Conv2D(out_channel, kernel_size=1, strides=(2, 2), padding='same', use_bias=False),\n",
        "          layers.BatchNormalization()\n",
        "      ])\n",
        "    else:\n",
        "      stride = 1\n",
        "      self.downsample = kl.Sequential([\n",
        "          layers.Conv2D(out_channel, kernel_size=1, strides=(1, 1), padding='same', use_bias=False),\n",
        "          layers.BatchNormalization()\n",
        "      ])\n",
        "\n",
        "    self.conv1 = layers.Conv2D(in_channel, kernel_size=3, strides=(stride, stride), padding='same', use_bias=False)\n",
        "    self.bn1 = layers.BatchNormalization()\n",
        "\n",
        "    self.conv2 = layers.Conv2D(out_channel, kernel_size=3, strides=(1, 1), padding='same', use_bias=False)\n",
        "    self.bn2 = layers.BatchNormalization()\n",
        "\n",
        "    self.add = layers.Add()\n",
        "\n",
        "    self.dropout = layers.Dropout(0.3)\n",
        "\n",
        "  def call(self, x):\n",
        "    identity = x\n",
        "\n",
        "    x = self.conv1(x)\n",
        "    x = self.bn1(x)\n",
        "    x = self.act(x)\n",
        "\n",
        "    x = self.dropout(x)\n",
        "\n",
        "    x = self.conv2(x)\n",
        "    x = self.bn2(x)\n",
        "\n",
        "    x = self.dropout(x)\n",
        "\n",
        "    if self.downsample is not None:\n",
        "      identity = self.downsample(identity)\n",
        "\n",
        "    x = self.dropout(x)\n",
        "\n",
        "    x = self.add([identity, x])\n",
        "\n",
        "    x = self.act(x)\n",
        "\n",
        "    return x"
      ],
      "metadata": {
        "id": "ndKd6cgazb75"
      },
      "execution_count": 127,
      "outputs": []
    },
    {
      "cell_type": "code",
      "source": [
        "class MyModel(Model):\n",
        "  def __init__(self):\n",
        "    super().__init__()\n",
        "    self.conv1 = layers.Conv2D(64, kernel_size=4, strides=(1, 1), padding='same', use_bias=False)\n",
        "    self.bn = layers.BatchNormalization()\n",
        "    self.act = layers.ReLU()\n",
        "    self.pool1 = layers.MaxPool2D(pool_size=(3, 3),  strides=(2, 2), padding='same')\n",
        "    self.pool2 = layers.GlobalAveragePooling2D()\n",
        "    self.fc = layers.Dense(10, activation='softmax')\n",
        "\n",
        "    self.layer1 = [\n",
        "        Block(64, 64) for _ in range(3)\n",
        "    ]\n",
        "\n",
        "    self.layer2 = [\n",
        "        Block(128, 128, False)\n",
        "    ]\n",
        "    for i in range(4):\n",
        "      self.layer2.append(Block(128, 128))\n",
        "\n",
        "    self.layer3 = [\n",
        "        Block(128, 256, True)\n",
        "    ]\n",
        "    for _ in range(5):\n",
        "      self.layer3.append(Block(256, 256))\n",
        "\n",
        "\n",
        "    self.layer4 = [\n",
        "        Block(256, 512, False)\n",
        "    ]\n",
        "    for _ in range(3):\n",
        "      self.layer4.append(Block(512, 512))\n",
        "\n",
        "  def call(self, x):\n",
        "    x = self.conv1(x)\n",
        "    x = self.bn(x)\n",
        "    x = self.act(x)\n",
        "\n",
        "    x = self.pool1(x)\n",
        "\n",
        "    for i in range(len(self.layer1)):\n",
        "      x = self.layer1[i](x)\n",
        "\n",
        "    for i in range(len(self.layer2)):\n",
        "      x = self.layer2[i](x)\n",
        "\n",
        "    for i in range(len(self.layer3)):\n",
        "      x = self.layer3[i](x)\n",
        "\n",
        "    for i in range(len(self.layer4)):\n",
        "      x = self.layer4[i](x)\n",
        "\n",
        "    x = self.pool2(x)\n",
        "\n",
        "    x = self.fc(x)\n",
        "\n",
        "    return x\n"
      ],
      "metadata": {
        "id": "XiB1DjxDUQ5j"
      },
      "execution_count": 128,
      "outputs": []
    },
    {
      "cell_type": "code",
      "source": [
        "model = MyModel()"
      ],
      "metadata": {
        "id": "fvzcOXFPpVX1"
      },
      "execution_count": 129,
      "outputs": []
    },
    {
      "cell_type": "code",
      "source": [
        "loss_object = tf.keras.losses.SparseCategoricalCrossentropy(from_logits=False)\n",
        "\n",
        "optimizer = tf.keras.optimizers.Adam()"
      ],
      "metadata": {
        "id": "FdqtK9t3Uv3b"
      },
      "execution_count": 130,
      "outputs": []
    },
    {
      "cell_type": "code",
      "source": [
        "train_loss = tf.keras.metrics.Mean(name='train_loss')\n",
        "train_accuracy = tf.keras.metrics.SparseCategoricalAccuracy(name='train_accuracy')\n",
        "\n",
        "test_loss = tf.keras.metrics.Mean(name='test_loss')\n",
        "test_accuracy = tf.keras.metrics.SparseCategoricalAccuracy(name='test_accuracy')"
      ],
      "metadata": {
        "id": "Y2RrnCxGUwbM"
      },
      "execution_count": 131,
      "outputs": []
    },
    {
      "cell_type": "code",
      "source": [
        "@tf.function\n",
        "def train_step(images, labels):\n",
        "  with tf.GradientTape() as tape:\n",
        "    # training=True is only needed if there are layers with different\n",
        "    # behavior during training versus inference (e.g. Dropout).\n",
        "    predictions = model(images, training=True)\n",
        "    loss = loss_object(labels, predictions)\n",
        "  gradients = tape.gradient(loss, model.trainable_variables)\n",
        "  optimizer.apply_gradients(zip(gradients, model.trainable_variables))\n",
        "\n",
        "  train_loss(loss)\n",
        "  train_accuracy(labels, predictions)"
      ],
      "metadata": {
        "id": "mhVcgH02Vd-D"
      },
      "execution_count": 132,
      "outputs": []
    },
    {
      "cell_type": "code",
      "source": [
        "@tf.function\n",
        "def test_step(images, labels):\n",
        "  # training=False is only needed if there are layers with different\n",
        "  # behavior during training versus inference (e.g. Dropout).\n",
        "  predictions = model(images, training=False)\n",
        "  t_loss = loss_object(labels, predictions)\n",
        "\n",
        "  test_loss(t_loss)\n",
        "  test_accuracy(labels, predictions)"
      ],
      "metadata": {
        "id": "hCufLImrD_OP"
      },
      "execution_count": 133,
      "outputs": []
    },
    {
      "cell_type": "code",
      "source": [
        "result = {}"
      ],
      "metadata": {
        "id": "op9qynWFJKHd"
      },
      "execution_count": 134,
      "outputs": []
    },
    {
      "cell_type": "code",
      "source": [
        "EPOCHS = 50\n",
        "\n",
        "for epoch in range(EPOCHS):\n",
        "  # Reset the metrics at the start of the next epoch\n",
        "  train_loss.reset_states()\n",
        "  train_accuracy.reset_states()\n",
        "  test_loss.reset_states()\n",
        "  test_accuracy.reset_states()\n",
        "\n",
        "  for images, labels in train_ds:\n",
        "    train_step(images, labels)\n",
        "\n",
        "  for test_images, test_labels in test_ds:\n",
        "    test_step(test_images, test_labels)\n",
        "\n",
        "  print(\n",
        "    f'Epoch {epoch + 1}, '\n",
        "    f'Loss: {train_loss.result()}, '\n",
        "    f'Accuracy: {train_accuracy.result() * 100}, '\n",
        "    f'Test Loss: {test_loss.result()}, '\n",
        "    f'Test Accuracy: {test_accuracy.result() * 100}'\n",
        "  )\n",
        "  result[epoch] = {\"loss\": train_loss.result(), \"acc\": train_accuracy.result(), \"test_loss\": test_loss.result(), \"test_accuracy\": test_accuracy.result()}\n",
        "\n",
        "  if epoch >= 40:\n",
        "    optimizer.learning_rate = 0.00001\n",
        "  elif epoch >= 25:\n",
        "    optimizer.learning_rate = 0.0001\n",
        ""
      ],
      "metadata": {
        "colab": {
          "base_uri": "https://localhost:8080/"
        },
        "id": "7UKCa897D_MK",
        "outputId": "ac350f18-6f8c-4b3a-d315-c93b97acc983"
      },
      "execution_count": null,
      "outputs": [
        {
          "output_type": "stream",
          "name": "stdout",
          "text": [
            "Epoch 1, Loss: 1.7978787422180176, Accuracy: 31.22599983215332, Test Loss: 2.054360866546631, Test Accuracy: 34.369998931884766\n"
          ]
        }
      ]
    },
    {
      "cell_type": "code",
      "source": [],
      "metadata": {
        "id": "cX1yMsGjD_Js"
      },
      "execution_count": null,
      "outputs": []
    },
    {
      "cell_type": "code",
      "source": [],
      "metadata": {
        "id": "t90PWMgvD_Hb"
      },
      "execution_count": null,
      "outputs": []
    },
    {
      "cell_type": "code",
      "source": [],
      "metadata": {
        "id": "ghxMG3xiD_Cr"
      },
      "execution_count": null,
      "outputs": []
    },
    {
      "cell_type": "code",
      "source": [],
      "metadata": {
        "id": "I2xwBaimD-8K"
      },
      "execution_count": null,
      "outputs": []
    }
  ]
}